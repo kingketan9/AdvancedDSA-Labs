{
  "nbformat": 4,
  "nbformat_minor": 0,
  "metadata": {
    "colab": {
      "provenance": [],
      "authorship_tag": "ABX9TyNq8lnb2tZxilCWU/RyLAEd",
      "include_colab_link": true
    },
    "kernelspec": {
      "name": "python3",
      "display_name": "Python 3"
    },
    "language_info": {
      "name": "python"
    }
  },
  "cells": [
    {
      "cell_type": "markdown",
      "metadata": {
        "id": "view-in-github",
        "colab_type": "text"
      },
      "source": [
        "<a href=\"https://colab.research.google.com/github/kingketan9/AdvancedDSA-Labs/blob/main/Ass2.ipynb\" target=\"_parent\"><img src=\"https://colab.research.google.com/assets/colab-badge.svg\" alt=\"Open In Colab\"/></a>"
      ]
    },
    {
      "cell_type": "markdown",
      "source": [
        "1. Implement the Heapsort algorithm to arrange numbers in descending order.\n",
        "\n"
      ],
      "metadata": {
        "id": "oSofR8vJPMBA"
      }
    },
    {
      "cell_type": "code",
      "execution_count": 11,
      "metadata": {
        "colab": {
          "base_uri": "https://localhost:8080/"
        },
        "id": "2usaQeq4PEX1",
        "outputId": "789ad901-6c55-49f0-a2bf-d50608c306ca"
      },
      "outputs": [
        {
          "output_type": "stream",
          "name": "stdout",
          "text": [
            "Original array [5, 3, 8, 9, 1, 6]\n",
            "Sorted array in descending order :  [9, 8, 6, 5, 3, 1]\n"
          ]
        }
      ],
      "source": [
        "def heapsort(arr):\n",
        "    for i in range(len(arr)//2-1, -1, -1):\n",
        "        min_heapify(arr, i, len(arr))\n",
        "\n",
        "    for i in range(len(arr)-1, 0, -1):\n",
        "        arr[i], arr[0] = arr[0], arr[i]\n",
        "        min_heapify(arr, 0, i)\n",
        "    return arr\n",
        "\n",
        "def min_heapify(arr, i, n):\n",
        "    left = 2*i + 1\n",
        "    right = 2*i + 2\n",
        "    smallest = i\n",
        "\n",
        "    if left < n and arr[left] < arr[smallest]:\n",
        "        smallest = left\n",
        "    if right < n and arr[right] < arr[smallest]:\n",
        "        smallest = right\n",
        "\n",
        "    if smallest != i:\n",
        "        arr[i], arr[smallest] = arr[smallest], arr[i]\n",
        "        min_heapify(arr, smallest, n)\n",
        "\n",
        "arr = [5, 3, 8, 9, 1, 6]\n",
        "print(\"Original array\", arr)\n",
        "print(\"Sorted array in descending order : \", heapsort(arr)) "
      ]
    },
    {
      "cell_type": "markdown",
      "source": [
        "2. Implement a min-priority queue with a min-heap. The program should have functions for the\n",
        "following operations:\n",
        "HEAP-MINIMUM to get the element with the smallest key,\n",
        "HEAP-EXTRACT-MIN to remove and return the element with the smallest key,\n",
        "HEAP-DECREASE-KEY decreases the value of the element to a new value, and\n",
        "MIN-HEAP-INSERT to insert the element.\n",
        "\n"
      ],
      "metadata": {
        "id": "k-eV7dAYPOs3"
      }
    },
    {
      "cell_type": "code",
      "source": [
        "class MinHeap:\n",
        "    def __init__(self):\n",
        "        self.heap = []\n",
        "\n",
        "    def parent(self, i):\n",
        "        return (i-1)//2\n",
        "\n",
        "    def insert_key(self, k):\n",
        "        self.heap.append(k)\n",
        "        i = len(self.heap) - 1\n",
        "        while i != 0 and self.heap[self.parent(i)] > self.heap[i]:\n",
        "            self.heap[i], self.heap[self.parent(i)] = self.heap[self.parent(i)], self.heap[i]\n",
        "            i = self.parent(i)\n",
        "    \n",
        "    def decrease_key(self, i, new_val):\n",
        "        self.heap[i] = new_val\n",
        "        while i != 0 and self.heap[self.parent(i)] > self.heap[i]:\n",
        "            self.heap[i], self.heap[self.parent(i)] = self.heap[self.parent(i)], self.heap[i]\n",
        "            i = self.parent(i)\n",
        "\n",
        "    def extract_min(self):\n",
        "        if len(self.heap) <= 0:\n",
        "            return None\n",
        "        if len(self.heap) == 1:\n",
        "            return self.heap.pop()\n",
        "        root = self.heap[0]\n",
        "        self.heap[0] = self.heap.pop()\n",
        "        self.min_heapify(0)\n",
        "        return root\n",
        "\n",
        "    def min_heapify(self, i):\n",
        "        l = 2 * i + 1\n",
        "        r = 2 * i + 2\n",
        "        smallest = i\n",
        "        if l < len(self.heap) and self.heap[l] < self.heap[i]:\n",
        "            smallest = l\n",
        "        if r < len(self.heap) and self.heap[r] < self.heap[smallest]:\n",
        "            smallest = r\n",
        "        if smallest != i:\n",
        "            self.heap[i], self.heap[smallest] = self.heap[smallest], self.heap[i]\n",
        "            self.min_heapify(smallest)\n",
        "    \n",
        "    def get_min(self):\n",
        "        return self.heap[0]\n",
        "\n",
        "min_heap = MinHeap()\n",
        "min_heap.insert_key(3)\n",
        "min_heap.insert_key(2)\n",
        "min_heap.insert_key(15)\n",
        "min_heap.insert_key(5)\n",
        "min_heap.insert_key(4)\n",
        "min_heap.insert_key(45)\n",
        "print(\"Removing the element with the smallest key : \", min_heap.extract_min())\n",
        "print(\"The element with the smallest key : \",min_heap.get_min())\n",
        "min_heap.decrease_key(2, 5)\n",
        "print(\"After decrease key function : \", min_heap.get_min())"
      ],
      "metadata": {
        "colab": {
          "base_uri": "https://localhost:8080/"
        },
        "id": "OOsjTSBkVOty",
        "outputId": "9598ae66-42e2-4224-f77d-fee0d93b8fdc"
      },
      "execution_count": 44,
      "outputs": [
        {
          "output_type": "stream",
          "name": "stdout",
          "text": [
            "Removing the element with the smallest key :  2\n",
            "The element with the smallest key :  3\n",
            "After decrease key function :  3\n"
          ]
        }
      ]
    },
    {
      "cell_type": "markdown",
      "source": [
        "3. Write a program to find the largest element in an unsorted array.\n"
      ],
      "metadata": {
        "id": "w_numCAcPWZ-"
      }
    },
    {
      "cell_type": "code",
      "source": [
        "def find_largest_element(arr):\n",
        "    largest = arr[0]\n",
        "    for i in range(1, len(arr)):\n",
        "        if arr[i] > largest:\n",
        "            largest = arr[i]\n",
        "    return largest\n",
        "\n",
        "arr = [3, 2, 1, 5, 6, 4]\n",
        "print(\"The largest element is : \" ,find_largest_element(arr))"
      ],
      "metadata": {
        "colab": {
          "base_uri": "https://localhost:8080/"
        },
        "id": "SCqL9zB0Ygcc",
        "outputId": "7c912384-ce4b-4ff6-a18b-9099bc731f0d"
      },
      "execution_count": 17,
      "outputs": [
        {
          "output_type": "stream",
          "name": "stdout",
          "text": [
            "The largest element is :  6\n"
          ]
        }
      ]
    },
    {
      "cell_type": "markdown",
      "source": [
        "4. Write a program to convert a binary search tree into a min-heap"
      ],
      "metadata": {
        "id": "ad2cVT0lP1O0"
      }
    },
    {
      "cell_type": "code",
      "source": [
        "class Node:\n",
        "\n",
        "\tdef __init__(self, data):\n",
        "\t\tself.data = data\n",
        "\t\tself.left = None\n",
        "\t\tself.right = None\n",
        "\n",
        "def inorderTraversal(root, arr):\n",
        "\tif root == None:\n",
        "\t\treturn\n",
        "\n",
        "\tinorderTraversal(root.left, arr)\n",
        "\n",
        "\tarr.append(root.data)\n",
        "\n",
        "\tinorderTraversal(root.right, arr)\n",
        "\n",
        "def BSTToMinHeap(root, arr, i):\n",
        "\tif root == None:\n",
        "\t\treturn\n",
        "\n",
        "\ti[0] += 1\n",
        "\troot.data = arr[i[0]]\n",
        "\n",
        "\tBSTToMinHeap(root.left, arr, i)\n",
        "\n",
        "\tBSTToMinHeap(root.right, arr, i)\n",
        "\n",
        "def convertToMinHeapUtil(root):\n",
        "\n",
        "\tarr = []\n",
        "\ti = [-1]\n",
        "\n",
        "\tinorderTraversal(root, arr)\n",
        "\n",
        "\tBSTToMinHeap(root, arr, i)\n",
        "\n",
        "def preorderTraversal(root):\n",
        "\tif root == None:\n",
        "\t\treturn\n",
        "\n",
        "\tprint(root.data, end=\" \")\n",
        "\n",
        "\tpreorderTraversal(root.left)\n",
        "\n",
        "\tpreorderTraversal(root.right)\n",
        "\n",
        "\n",
        "\n",
        "root = Node(4)\n",
        "root.left = Node(2)\n",
        "root.right = Node(6)\n",
        "root.left.left = Node(1)\n",
        "root.left.right = Node(3)\n",
        "root.right.left = Node(5)\n",
        "root.right.right = Node(7)\n",
        "print(\"Binary Seach Tree :\")\n",
        "preorderTraversal(root)\n",
        "\n",
        "convertToMinHeapUtil(root)\n",
        "\n",
        "print(\"\\nMin Heap:\")\n",
        "preorderTraversal(root)"
      ],
      "metadata": {
        "colab": {
          "base_uri": "https://localhost:8080/"
        },
        "id": "Abbmzh0NaMhK",
        "outputId": "60a96ed6-29e6-4f10-f946-3e1417ff3428"
      },
      "execution_count": 32,
      "outputs": [
        {
          "output_type": "stream",
          "name": "stdout",
          "text": [
            "Binary Seach Tree :\n",
            "4 2 1 3 6 5 7 \n",
            "Min Heap:\n",
            "1 2 3 4 5 6 7 "
          ]
        }
      ]
    },
    {
      "cell_type": "code",
      "source": [],
      "metadata": {
        "id": "mt7ci8-eaXLc"
      },
      "execution_count": null,
      "outputs": []
    }
  ]
}