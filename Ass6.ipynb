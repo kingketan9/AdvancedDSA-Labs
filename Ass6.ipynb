{
  "nbformat": 4,
  "nbformat_minor": 0,
  "metadata": {
    "colab": {
      "provenance": [],
      "authorship_tag": "ABX9TyMYkict+38iQQuNrNF2akmh",
      "include_colab_link": true
    },
    "kernelspec": {
      "name": "python3",
      "display_name": "Python 3"
    },
    "language_info": {
      "name": "python"
    }
  },
  "cells": [
    {
      "cell_type": "markdown",
      "metadata": {
        "id": "view-in-github",
        "colab_type": "text"
      },
      "source": [
        "<a href=\"https://colab.research.google.com/github/kingketan9/AdvancedDSA-Labs/blob/main/Ass6.ipynb\" target=\"_parent\"><img src=\"https://colab.research.google.com/assets/colab-badge.svg\" alt=\"Open In Colab\"/></a>"
      ]
    },
    {
      "cell_type": "markdown",
      "source": [
        "Chef lives in Chefland. Chefland can be accurately represented by a certain number of intersections and the roads connecting them. Chefland is a strange place because all the roads there are one-way. Also, for any two intersections A and B, once you travel from A to B, you can never return to A again because there is simply no route you can take to get back to A. Unaware of this, Chef set out to visit his friend, and now he cannot return home! So, Chef decides to travel to the townhall and complain about this ridiculous system. Studying the map of Chefland, Chef wonders about the number of ways in which he can travel to the townhall. Help him find this number. As the number may be very large, print it modulo 10^9+7.\n",
        "\n",
        "Input:\n",
        "\n",
        "The first line of the input contains 2 integers N and M. They are the number of intersections and number of\n",
        "roads in Chefland respectively.\n",
        "\n",
        "The second line contains 2 integers P and Q. P is the intersection where Chef is currently located. Q is\n",
        "the intersection where the townhall is located.\n",
        "\n",
        "M lines follow, each containing a pair of integers a b. For each pair a b, a road exists connecting intersection\n",
        "b to a along which one can travel from a to b only.\n",
        "\n",
        "Output a single line containing an integer which is the number of ways in which Chef can travel from P to Q\n",
        "modulo 109+7.\n",
        "\n",
        "Output:\n",
        "\n",
        "Output a single line containing an integer which is the number of ways in which Chef can travel from P to Q\n",
        "modulo 109+7.\n",
        "\n",
        "Constraints\n",
        "1≤ N ≤ 105\n",
        "1≤ M ≤ 106\n",
        "1≤ P, Q ≤ N\n",
        "1≤ a, b ≤ N, a != b"
      ],
      "metadata": {
        "id": "uV5gx-Cgn-XH"
      }
    },
    {
      "cell_type": "code",
      "source": [
        "N, M = map(int, input().split())\n",
        "P, Q = map(int, input().split())\n",
        "V = [[] for i in range(N)]\n",
        "indeg = [0]*N\n",
        "for i in range(M):\n",
        "    a, b = map(int, input().split())\n",
        "    V[a-1].append(b-1)\n",
        "    indeg[b-1] += 1\n",
        "\n",
        "S = [i for i in range(N) if indeg[i]==0]\n",
        "L = []\n",
        "\n",
        "while S:\n",
        "    u = S.pop()\n",
        "    L.append(u)\n",
        "    for v in V[u]:\n",
        "        indeg[v] -= 1\n",
        "        if indeg[v]==0:\n",
        "            S.append(v)\n",
        "\n",
        "dp = [0]*N\n",
        "mod = int(1e9) + 7\n",
        "dp[Q-1] = 1\n",
        "for u in reversed(L):\n",
        "    for v in V[u]:\n",
        "        dp[u] += dp[v]\n",
        "        dp[u] %= mod\n",
        "\n",
        "print(\"Number of ways are :- \",dp[P-1])"
      ],
      "metadata": {
        "colab": {
          "base_uri": "https://localhost:8080/"
        },
        "id": "V8N9FGvguyuK",
        "outputId": "c57a51c6-08b9-4350-be68-1e65d1eccb63"
      },
      "execution_count": 18,
      "outputs": [
        {
          "output_type": "stream",
          "name": "stdout",
          "text": [
            "5 6\n",
            "1 5\n",
            "1 2\n",
            "1 3\n",
            "1 4\n",
            "1 5\n",
            "3 4\n",
            "4 5\n",
            "Number of ways are :-  3\n"
          ]
        }
      ]
    }
  ]
}