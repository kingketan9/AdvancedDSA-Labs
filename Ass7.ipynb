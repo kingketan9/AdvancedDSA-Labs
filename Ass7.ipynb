{
  "nbformat": 4,
  "nbformat_minor": 0,
  "metadata": {
    "colab": {
      "provenance": [],
      "authorship_tag": "ABX9TyMoRA4o3T7n+yXshPjb5R0E",
      "include_colab_link": true
    },
    "kernelspec": {
      "name": "python3",
      "display_name": "Python 3"
    },
    "language_info": {
      "name": "python"
    }
  },
  "cells": [
    {
      "cell_type": "markdown",
      "metadata": {
        "id": "view-in-github",
        "colab_type": "text"
      },
      "source": [
        "<a href=\"https://colab.research.google.com/github/kingketan9/AdvancedDSA-Labs/blob/main/Ass7.ipynb\" target=\"_parent\"><img src=\"https://colab.research.google.com/assets/colab-badge.svg\" alt=\"Open In Colab\"/></a>"
      ]
    },
    {
      "cell_type": "markdown",
      "source": [
        "#Chromatic Number\n",
        "You are given a connected graph consisting of N nodes and no cycles . You have to determine the\n",
        "chromatic number of the graph .\n",
        "NOTE : The chromatic number of a graph is the smallest number of colors needed to color the vertices of\n",
        "the graph so that no two adjacent vertex share the same color .\n",
        "\n",
        "Input\n",
        " The first line consist of an integer T denoting the number of test cases.\n",
        " Following T lines contains an integer N denoting the number of nodes in the garph .\n",
        "\n",
        "Output\n",
        " For each test case , output a single integer denoting the chromatic number of the given graph .\n",
        "Constraints\n",
        " 1 ≤ T ≤ 1,000\n",
        " 1 ≤ N ≤ 105\n",
        "\n",
        "Example Input\n",
        "\n",
        "2\n",
        "\n",
        "1\n",
        "\n",
        "2\n",
        "\n",
        "Example Output\n",
        "\n",
        "1\n",
        "\n",
        "2\n",
        "\n",
        "Explanation\n",
        "In the first test case there is just one node , hence only one colour is needed to colour the graph\n",
        "\n",
        "In the second test case there are two nodes , hence minimun of two colours are required to colour the graph\n",
        "in the desired way ."
      ],
      "metadata": {
        "id": "Pb9iPYsiYj22"
      }
    },
    {
      "cell_type": "code",
      "execution_count": 4,
      "metadata": {
        "colab": {
          "base_uri": "https://localhost:8080/"
        },
        "id": "TbqFmkg9IzNi",
        "outputId": "3a93b19d-d52f-4cc2-b256-95e806591e2c"
      },
      "outputs": [
        {
          "output_type": "stream",
          "name": "stdout",
          "text": [
            "Chromatic Number: 2\n"
          ]
        }
      ],
      "source": [
        "def chromatic_number(graph):\n",
        "\n",
        "    n = len(graph)\n",
        "\n",
        "    def color_graph(node, colors):\n",
        "        if node == n:\n",
        "            return True\n",
        "\n",
        "        for color in range(1, n+1):\n",
        "            is_safe = True\n",
        "\n",
        "            for neighbor in graph[node]:\n",
        "                if colors[neighbor] == color:\n",
        "                    is_safe = False\n",
        "                    break\n",
        "\n",
        "            if is_safe:\n",
        "                colors[node] = color\n",
        "\n",
        "                if color_graph(node+1, colors):\n",
        "                    return True\n",
        "\n",
        "                colors[node] = 0\n",
        "\n",
        "        return False\n",
        "\n",
        "    colors = [0] * n\n",
        "\n",
        "    color_graph(0, colors)\n",
        "\n",
        "    return max(colors)\n",
        "\n",
        "graph = [[], [2], [1], [2]]\n",
        "\n",
        "result = chromatic_number(graph)\n",
        "\n",
        "print(\"Chromatic Number:\", result)"
      ]
    }
  ]
}